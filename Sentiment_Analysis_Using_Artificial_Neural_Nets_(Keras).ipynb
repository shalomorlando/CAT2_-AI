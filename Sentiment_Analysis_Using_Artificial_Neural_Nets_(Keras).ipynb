{
  "nbformat": 4,
  "nbformat_minor": 0,
  "metadata": {
    "colab": {
      "name": "Sentiment Analysis Using Artificial Neural Nets (Keras).ipynb",
      "provenance": [],
      "authorship_tag": "ABX9TyONAQyiFsIWySspiufcSK93",
      "include_colab_link": true
    },
    "kernelspec": {
      "name": "python3",
      "display_name": "Python 3"
    }
  },
  "cells": [
    {
      "cell_type": "markdown",
      "metadata": {
        "id": "view-in-github",
        "colab_type": "text"
      },
      "source": [
        "<a href=\"https://colab.research.google.com/github/shalomorlando/CAT2_-AI/blob/main/Sentiment_Analysis_Using_Artificial_Neural_Nets_(Keras).ipynb\" target=\"_parent\"><img src=\"https://colab.research.google.com/assets/colab-badge.svg\" alt=\"Open In Colab\"/></a>"
      ]
    },
    {
      "cell_type": "markdown",
      "metadata": {
        "id": "vKo5e9J9cZ2v"
      },
      "source": [
        "# The goal of this notebook is to build a ANN model using Keras that will determine whether movie reviews are positive, negative or neutral."
      ]
    },
    {
      "cell_type": "markdown",
      "metadata": {
        "id": "RgQoHNCRcyP8"
      },
      "source": [
        "**Initial setup: Library Imports**"
      ]
    },
    {
      "cell_type": "code",
      "metadata": {
        "id": "13PkGaGXaH5r"
      },
      "source": [
        "from tensorflow import keras\r\n",
        "import numpy as np\r\n",
        "from keras import layers\r\n",
        "from keras import Sequential\r\n",
        "from keras.utils import to_categorical\r\n",
        "from sklearn.feature_extraction.text import CountVectorizer"
      ],
      "execution_count": 1,
      "outputs": []
    },
    {
      "cell_type": "markdown",
      "metadata": {
        "id": "0OaPZehcheQ-"
      },
      "source": [
        "**Getting the data from Keras.datasets**\r\n",
        "\r\n"
      ]
    },
    {
      "cell_type": "code",
      "metadata": {
        "id": "pxxez9pOhKPq"
      },
      "source": [
        "review_dataset = keras.datasets.imdb"
      ],
      "execution_count": 2,
      "outputs": []
    },
    {
      "cell_type": "markdown",
      "metadata": {
        "id": "4BDsDE1slAkf"
      },
      "source": [
        "**Loading the data into variables**"
      ]
    },
    {
      "cell_type": "code",
      "metadata": {
        "colab": {
          "base_uri": "https://localhost:8080/"
        },
        "id": "ZoGI9-IzlIGv",
        "outputId": "ea00c7c7-b55b-46a7-9ef9-96e31e4f926c"
      },
      "source": [
        "(training_x, training_y),(testing_x, testing_y) = review_dataset.load_data(num_words=10000)"
      ],
      "execution_count": 3,
      "outputs": [
        {
          "output_type": "stream",
          "text": [
            "Downloading data from https://storage.googleapis.com/tensorflow/tf-keras-datasets/imdb.npz\n",
            "17465344/17464789 [==============================] - 1s 0us/step\n"
          ],
          "name": "stdout"
        },
        {
          "output_type": "stream",
          "text": [
            "<string>:6: VisibleDeprecationWarning: Creating an ndarray from ragged nested sequences (which is a list-or-tuple of lists-or-tuples-or ndarrays with different lengths or shapes) is deprecated. If you meant to do this, you must specify 'dtype=object' when creating the ndarray\n",
            "/usr/local/lib/python3.6/dist-packages/tensorflow/python/keras/datasets/imdb.py:159: VisibleDeprecationWarning: Creating an ndarray from ragged nested sequences (which is a list-or-tuple of lists-or-tuples-or ndarrays with different lengths or shapes) is deprecated. If you meant to do this, you must specify 'dtype=object' when creating the ndarray\n",
            "  x_train, y_train = np.array(xs[:idx]), np.array(labels[:idx])\n",
            "/usr/local/lib/python3.6/dist-packages/tensorflow/python/keras/datasets/imdb.py:160: VisibleDeprecationWarning: Creating an ndarray from ragged nested sequences (which is a list-or-tuple of lists-or-tuples-or ndarrays with different lengths or shapes) is deprecated. If you meant to do this, you must specify 'dtype=object' when creating the ndarray\n",
            "  x_test, y_test = np.array(xs[idx:]), np.array(labels[idx:])\n"
          ],
          "name": "stderr"
        }
      ]
    },
    {
      "cell_type": "markdown",
      "metadata": {
        "id": "9-nGOVO0-QJj"
      },
      "source": [
        "**prepairing data using text vectorization**"
      ]
    },
    {
      "cell_type": "code",
      "metadata": {
        "id": "NbnQdnUA-MsS"
      },
      "source": [
        "def vectorize_text(sequences, dimension=10000):\r\n",
        "    # create a zero matrix of shape (len(sequences), dimension)\r\n",
        "    result = np.zeros((len(sequences), dimension))\r\n",
        "    for i,sequence in enumerate(sequences):\r\n",
        "        result[i, sequence] = 1\r\n",
        "    return result"
      ],
      "execution_count": 4,
      "outputs": []
    },
    {
      "cell_type": "markdown",
      "metadata": {
        "id": "lzFLQHhSDcW-"
      },
      "source": [
        "**Splitting data**"
      ]
    },
    {
      "cell_type": "code",
      "metadata": {
        "id": "G4NGozZ2MaA7"
      },
      "source": [
        "testing_features = vectorize_text(testing_x)\r\n",
        "training_features = vectorize_text(training_x)\r\n",
        "\r\n",
        "testing_targets = np.asarray(testing_y).astype('float32')\r\n",
        "training_targets = np.asarray(training_y).astype('float32')\r\n",
        "\r\n",
        "#testing_features.shape\r\n",
        "#testing_targets.shape"
      ],
      "execution_count": 5,
      "outputs": []
    },
    {
      "cell_type": "markdown",
      "metadata": {
        "id": "I69XLXaUEoC7"
      },
      "source": [
        "**Building and training the model using Keras's Sequential model class**"
      ]
    },
    {
      "cell_type": "code",
      "metadata": {
        "colab": {
          "base_uri": "https://localhost:8080/"
        },
        "id": "OSxNBdRaNtQZ",
        "outputId": "e8fecced-e619-49c1-b57d-dffc1b399aa1"
      },
      "source": [
        "model = Sequential()\r\n",
        "\r\n",
        "#add input layer\r\n",
        "model.add(layers.Dense(50, activation = \"relu\", input_shape=(10000, )))\r\n",
        "\r\n",
        "#add hidden - Layers\r\n",
        "model.add(layers.Dropout(0.3, noise_shape=None, seed=None))\r\n",
        "model.add(layers.Dense(50, activation = \"relu\"))\r\n",
        "model.add(layers.Dropout(0.2, noise_shape=None, seed=None))\r\n",
        "model.add(layers.Dense(50, activation = \"relu\"))\r\n",
        "\r\n",
        "# Output- Layer\r\n",
        "model.add(layers.Dense(1, activation = \"sigmoid\"))\r\n",
        "model.summary()"
      ],
      "execution_count": 6,
      "outputs": [
        {
          "output_type": "stream",
          "text": [
            "Model: \"sequential\"\n",
            "_________________________________________________________________\n",
            "Layer (type)                 Output Shape              Param #   \n",
            "=================================================================\n",
            "dense (Dense)                (None, 50)                500050    \n",
            "_________________________________________________________________\n",
            "dropout (Dropout)            (None, 50)                0         \n",
            "_________________________________________________________________\n",
            "dense_1 (Dense)              (None, 50)                2550      \n",
            "_________________________________________________________________\n",
            "dropout_1 (Dropout)          (None, 50)                0         \n",
            "_________________________________________________________________\n",
            "dense_2 (Dense)              (None, 50)                2550      \n",
            "_________________________________________________________________\n",
            "dense_3 (Dense)              (None, 1)                 51        \n",
            "=================================================================\n",
            "Total params: 505,201\n",
            "Trainable params: 505,201\n",
            "Non-trainable params: 0\n",
            "_________________________________________________________________\n"
          ],
          "name": "stdout"
        }
      ]
    },
    {
      "cell_type": "markdown",
      "metadata": {
        "id": "PJBZgpfrQRnd"
      },
      "source": [
        "**Setting up the model for training**"
      ]
    },
    {
      "cell_type": "code",
      "metadata": {
        "id": "u418x3Z0QGJi"
      },
      "source": [
        "'''the optimization algorithm used is Adam a variation of Gradient descent\r\n",
        "binary_crossentropy is used to calculate the loss'''\r\n",
        "\r\n",
        "model.compile(optimizer=\"adam\", loss=\"binary_crossentropy\", metrics=\"accuracy\")"
      ],
      "execution_count": 7,
      "outputs": []
    },
    {
      "cell_type": "markdown",
      "metadata": {
        "id": "NuDPIJ74ReEF"
      },
      "source": [
        "**Training the model**"
      ]
    },
    {
      "cell_type": "code",
      "metadata": {
        "colab": {
          "base_uri": "https://localhost:8080/"
        },
        "id": "6gZB__CXRAfi",
        "outputId": "3b128969-de2a-4266-c90a-e18c48ab412e"
      },
      "source": [
        "model.fit(training_features, training_targets, epochs=10)"
      ],
      "execution_count": 8,
      "outputs": [
        {
          "output_type": "stream",
          "text": [
            "Epoch 1/10\n",
            "782/782 [==============================] - 5s 5ms/step - loss: 0.4191 - accuracy: 0.8013\n",
            "Epoch 2/10\n",
            "782/782 [==============================] - 4s 5ms/step - loss: 0.1815 - accuracy: 0.9308\n",
            "Epoch 3/10\n",
            "782/782 [==============================] - 4s 5ms/step - loss: 0.1103 - accuracy: 0.9603\n",
            "Epoch 4/10\n",
            "782/782 [==============================] - 4s 5ms/step - loss: 0.0799 - accuracy: 0.9727\n",
            "Epoch 5/10\n",
            "782/782 [==============================] - 4s 5ms/step - loss: 0.0607 - accuracy: 0.9783\n",
            "Epoch 6/10\n",
            "782/782 [==============================] - 4s 5ms/step - loss: 0.0548 - accuracy: 0.9789\n",
            "Epoch 7/10\n",
            "782/782 [==============================] - 4s 5ms/step - loss: 0.0421 - accuracy: 0.9833\n",
            "Epoch 8/10\n",
            "782/782 [==============================] - 4s 5ms/step - loss: 0.0384 - accuracy: 0.9849\n",
            "Epoch 9/10\n",
            "782/782 [==============================] - 4s 5ms/step - loss: 0.0370 - accuracy: 0.9872\n",
            "Epoch 10/10\n",
            "782/782 [==============================] - 4s 5ms/step - loss: 0.0348 - accuracy: 0.9871\n"
          ],
          "name": "stdout"
        },
        {
          "output_type": "execute_result",
          "data": {
            "text/plain": [
              "<tensorflow.python.keras.callbacks.History at 0x7f04e82ff668>"
            ]
          },
          "metadata": {
            "tags": []
          },
          "execution_count": 8
        }
      ]
    },
    {
      "cell_type": "markdown",
      "metadata": {
        "id": "iH3NOl30TYpE"
      },
      "source": [
        "**Testing the model**"
      ]
    },
    {
      "cell_type": "code",
      "metadata": {
        "colab": {
          "base_uri": "https://localhost:8080/"
        },
        "id": "DN_UzU02TpHO",
        "outputId": "7490affd-7498-4a8d-eef5-e8caa832b706"
      },
      "source": [
        "_, accuracy = model.evaluate(testing_features, testing_targets) #Returns the loss value & metrics values for the model in test mode."
      ],
      "execution_count": 9,
      "outputs": [
        {
          "output_type": "stream",
          "text": [
            "782/782 [==============================] - 2s 2ms/step - loss: 0.5823 - accuracy: 0.8630\n"
          ],
          "name": "stdout"
        }
      ]
    },
    {
      "cell_type": "code",
      "metadata": {
        "colab": {
          "base_uri": "https://localhost:8080/"
        },
        "id": "LqWAsvEuUSsW",
        "outputId": "fe6caf58-dc8c-4be5-8141-1fe21ccb8ec7"
      },
      "source": [
        "print(\"On testing, the model has an accuracy of:\", accuracy * 100, \"percent\")"
      ],
      "execution_count": 10,
      "outputs": [
        {
          "output_type": "stream",
          "text": [
            "On testing, the model has an accuracy of: 86.30399703979492 percent\n"
          ],
          "name": "stdout"
        }
      ]
    },
    {
      "cell_type": "markdown",
      "metadata": {
        "id": "cJXybFE0U0Gb"
      },
      "source": [
        "**Applying the model**"
      ]
    },
    {
      "cell_type": "code",
      "metadata": {
        "colab": {
          "base_uri": "https://localhost:8080/"
        },
        "id": "rr-3K4LdU4jS",
        "outputId": "36ac4379-456a-470a-a8d5-fcc45742152c"
      },
      "source": [
        "predictions = model.predict(testing_features)\r\n",
        "predictions[30]"
      ],
      "execution_count": 11,
      "outputs": [
        {
          "output_type": "execute_result",
          "data": {
            "text/plain": [
              "array([0.9999994], dtype=float32)"
            ]
          },
          "metadata": {
            "tags": []
          },
          "execution_count": 11
        }
      ]
    }
  ]
}